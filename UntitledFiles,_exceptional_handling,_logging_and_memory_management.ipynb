{
  "nbformat": 4,
  "nbformat_minor": 0,
  "metadata": {
    "colab": {
      "provenance": []
    },
    "kernelspec": {
      "name": "python3",
      "display_name": "Python 3"
    },
    "language_info": {
      "name": "python"
    }
  },
  "cells": [
    {
      "cell_type": "markdown",
      "source": [
        "# Files, exceptional handling, logging and memory management Questions   "
      ],
      "metadata": {
        "id": "vlILwlhZWKdz"
      }
    },
    {
      "cell_type": "markdown",
      "source": [
        "# **Theory Question**"
      ],
      "metadata": {
        "id": "PfM4CoWwZtLT"
      }
    },
    {
      "cell_type": "markdown",
      "source": [
        "1. What is the difference between interpreted and compiled languages?\n",
        "\n",
        "ANSWER: --\n",
        "Interpreted languages (like Python) execute code line-by-line using an interpreter. They are platform-independent and easier to debug but can be slower.\n",
        "\n",
        "Compiled languages (like C/C++) translate the entire code into machine language before execution, resulting in faster performance but requiring a compilation step and platform-specific binaries.\n",
        "\n",
        "2. What is exception handling in Python?\n",
        "\n",
        "ANSWER: --\n",
        "Exception handling is a mechanism to catch and handle runtime errors in a program. It helps prevent crashes and allows graceful recovery from unexpected conditions using try, except, finally, and else blocks.\n",
        "\n",
        "3. What is the purpose of the finally block in exception handling?\n",
        "\n",
        "ANSWER: --\n",
        "The finally block contains code that is always executed, regardless of whether an exception occurred or not. It’s typically used for cleanup actions like closing files or releasing resources.\n",
        "\n",
        "4. What is logging in Python?\n",
        "\n",
        "ANSWER: --\n",
        "Logging is a way to track events that happen during program execution. Python’s logging module records messages with different severity levels (DEBUG, INFO, WARNING, ERROR, CRITICAL) for debugging and monitoring.\n",
        "\n",
        "5. What is the significance of the __del__ method in Python?\n",
        "\n",
        "ANSWER: --\n",
        "__del__ is a destructor method called when an object is about to be destroyed. It’s used to clean up resources like open files or network connections, but relying on it is discouraged because garbage collection timing is not guaranteed.\n",
        "\n",
        "6. What is the difference between import and from ... import in Python?\n",
        "\n",
        "ANSWER: --\n",
        "\n",
        "import module imports the entire module; you access items with module.item.\n",
        "from module import item imports specific items directly; no module prefix needed.\n",
        "\n",
        "7. How can you handle multiple exceptions in Python?\n",
        "\n",
        "ANSWER: --\n",
        "You can define separate except blocks for different exception types:\n",
        "\n",
        "python\n",
        "\n",
        "try:\n",
        "    # Code that may raise multiple exceptions\n",
        "    x = int(\"abc\")\n",
        "    y = 10 / 0\n",
        "except ValueError:\n",
        "\n",
        "    print(\"Caught a ValueError\")\n",
        "\n",
        "except ZeroDivisionError:\n",
        "\n",
        "    print(\"Caught a ZeroDivisionError\")\n",
        "This allows you to handle each exception type differently.\n",
        "\n",
        "\n",
        "The program checks each except block in order.\n",
        "\n",
        "\n",
        "\n",
        "\n",
        "8. What is the purpose of the with statement when handling files in Python?\n",
        "\n",
        "ANSWER: --\n",
        "The with statement ensures files are properly closed after operations, even if exceptions occur. It manages resources efficiently and prevents file corruption.\n",
        "\n",
        "Example:\n",
        "\n",
        "python\n",
        "\n",
        "with open(\"file.txt\") as f:\n",
        "\n",
        "    data = f.read()\n",
        "9. What is the difference between multithreading and multiprocessing?\n",
        "\n",
        "ANSWER: --\n",
        "\n",
        "Multithreading: Multiple threads in one process, share memory, affected by GIL in Python. Good for I/O-bound tasks.\n",
        "\n",
        "Multiprocessing: Multiple processes, each with its own memory, avoids GIL, better for CPU-bound tasks.\n",
        "\n",
        "10. What are the advantages of using logging in a program?\n",
        "\n",
        "ANSWER: --\n",
        "\n",
        "Helps in debugging and tracking errors\n",
        "\n",
        "Provides runtime information\n",
        "\n",
        "Enables saving logs to files\n",
        "\n",
        "Helps monitor performance and identify issues in production\n",
        "\n",
        "11. What is memory management in Python?\n",
        "\n",
        "ANSWER: --\n",
        "Memory management in Python includes:\n",
        "\n",
        "Automatic allocation and deallocation\n",
        "\n",
        "Reference counting for tracking object usage\n",
        "\n",
        "Garbage collection for cleaning up unreachable objects\n",
        "\n",
        "Private heap where all Python objects reside\n",
        "\n",
        "12. What are the basic steps involved in exception handling in Python?\n",
        "\n",
        "ANSWER: --\n",
        "\n",
        "try block contains code that might raise exceptions\n",
        "\n",
        "except block catches and handles the error\n",
        "\n",
        "else block (optional) runs if no exception occurs\n",
        "\n",
        "finally block (optional) runs regardless of exception\n",
        "\n",
        "13. Why is memory management important in Python?\n",
        "\n",
        "ANSWER: --\n",
        "Efficient memory management:\n",
        "\n",
        "Prevents memory leaks\n",
        "\n",
        "Optimizes resource usage\n",
        "\n",
        "Enhances application performance\n",
        "\n",
        "Ensures program stability\n",
        "\n",
        "14. What is the role of try and except in exception handling?\n",
        "\n",
        "ANSWER: --\n",
        "\n",
        "try block contains code that may raise exceptions\n",
        "\n",
        "except block defines how to handle those exceptions\n",
        "Together, they prevent crashes and enable graceful failure recovery.\n",
        "\n",
        "15. How does Python's garbage collection system work?\n",
        "\n",
        "ANSWER: --\n",
        "Python uses:\n",
        "\n",
        "Reference counting: Tracks object references\n",
        "\n",
        "Generational garbage collection: Groups objects into generations to optimize cleanup\n",
        "\n",
        "Cycle detection: Identifies and deletes circular references\n",
        "\n",
        "Use gc module to interact with it.\n",
        "\n",
        "16. What is the purpose of the else block in exception handling?\n",
        "\n",
        "ANSWER: --\n",
        "The else block runs only if no exception occurs in the try block. It separates code that should execute only on success.\n",
        "\n",
        "17. What are the common logging levels in Python?\n",
        "\n",
        "ANSWER: --\n",
        "\n",
        "DEBUG: Detailed info for diagnosing problems\n",
        "\n",
        "INFO: Confirmation that things work as expected\n",
        "\n",
        "WARNING: Something unexpected, not necessarily an error\n",
        "\n",
        "ERROR: A serious issue, the program can still run\n",
        "\n",
        "CRITICAL: Very serious error; program may crash\n",
        "\n",
        "18. What is the difference between os.fork() and multiprocessing in Python?\n",
        "\n",
        "ANSWER: --\n",
        "\n",
        "os.fork() is Unix-specific, creates a child process by duplicating the parent.\n",
        "\n",
        "multiprocessing is cross-platform, higher-level API for creating processes with better control, portability, and safety.\n",
        "\n",
        "19. What is the importance of closing a file in Python?\n",
        "\n",
        "ANSWER: --\n",
        "Closing a file:\n",
        "\n",
        "Frees system resources\n",
        "\n",
        "Ensures data is written to disk\n",
        "\n",
        "Prevents data corruption\n",
        "Using with automatically handles it.\n",
        "\n",
        "20. What is the difference between file.read() and file.readline() in Python?\n",
        "\n",
        "ANSWER: --\n",
        "\n",
        "file.read() reads the entire file as a single string\n",
        "\n",
        "file.readline() reads one line at a time\n",
        "Useful when handling large files to save memory.\n",
        "\n",
        "21. What is the logging module in Python used for?\n",
        "\n",
        "ANSWER: --\n",
        "The logging module provides a flexible system for tracking events, writing logs to files, and displaying runtime messages with different severity levels.\n",
        "\n",
        "22. What is the os module in Python used for in file handling?\n",
        "\n",
        "ANSWER: --\n",
        "The os module provides functions for:\n",
        "\n",
        "Navigating directories\n",
        "\n",
        "Creating/deleting files\n",
        "\n",
        "Checking file existence\n",
        "\n",
        "Interacting with the file system\n",
        "Example: os.remove(), os.path.exists()\n",
        "\n",
        "23. What are the challenges associated with memory management in Python?\n",
        "\n",
        "ANSWER: --\n",
        "\n",
        "Circular references: Not handled by reference counting alone\n",
        "\n",
        "Memory leaks: Due to uncollected or mismanaged references\n",
        "\n",
        "Large object retention: Holding data longer than needed\n",
        "\n",
        "Overhead of garbage collection\n",
        "\n",
        "24. How do you raise an exception manually in Python?\n",
        "\n",
        "ANSWER: --\n",
        "Use the raise keyword:\n",
        "\n",
        "python\n",
        "Copy\n",
        "Edit\n",
        "raise ValueError(\"Invalid input\")\n",
        "You can raise built-in or custom exceptions.\n",
        "\n",
        "25. Why is it important to use multithreading in certain applications?\n",
        "\n",
        "ANSWER: --\n",
        "Multithreading improves performance in:\n",
        "\n",
        "I/O-bound tasks (e.g., API calls, file I/O)\n",
        "\n",
        "Concurrent operations like user interactions\n",
        "\n",
        "Reducing waiting time and increasing responsiveness\n",
        "\n",
        "It allows the program to handle multiple tasks simultaneously without freezing."
      ],
      "metadata": {
        "id": "R6qi9JueWKaZ"
      }
    },
    {
      "cell_type": "markdown",
      "source": [
        "# **Practical Questions**"
      ],
      "metadata": {
        "id": "qgE6sxEGZdgH"
      }
    },
    {
      "cell_type": "markdown",
      "source": [
        "1. How can you open a file for writing in Python and write a string to it?\n",
        "\n",
        "ANSWER: --"
      ],
      "metadata": {
        "id": "I9zArSP_Z35h"
      }
    },
    {
      "cell_type": "code",
      "source": [
        "with open(\"output.txt\", \"w\") as f:\n",
        "    f.write(\"Hello, World!\")\n"
      ],
      "metadata": {
        "id": "tu-00u0hZ3fH"
      },
      "execution_count": 2,
      "outputs": []
    },
    {
      "cell_type": "markdown",
      "source": [
        "2. Write a Python program to read the contents of a file and print each line.\n",
        "\n",
        "ANSWER: --"
      ],
      "metadata": {
        "id": "IMoy6XftKO1i"
      }
    },
    {
      "cell_type": "code",
      "source": [
        "with open(\"input.txt\", \"r\") as f:\n",
        "    for line in f:\n",
        "        print(line.strip())\n"
      ],
      "metadata": {
        "id": "3xAKjxehLLKB"
      },
      "execution_count": null,
      "outputs": []
    },
    {
      "cell_type": "markdown",
      "source": [
        "3. How would you handle a case where the file doesn't exist while trying to open it for reading?\n",
        "\n",
        "ANSWER: --"
      ],
      "metadata": {
        "id": "Jrbigh_eKOUF"
      }
    },
    {
      "cell_type": "code",
      "source": [
        "try:\n",
        "    with open(\"nonexistent.txt\", \"r\") as f:\n",
        "        print(f.read())\n",
        "except FileNotFoundError:\n",
        "    print(\"The file does not exist.\")\n"
      ],
      "metadata": {
        "id": "pisbJohkKOJV"
      },
      "execution_count": null,
      "outputs": []
    },
    {
      "cell_type": "markdown",
      "source": [
        "4. Write a Python script that reads from one file and writes its content to another file.\n",
        "\n",
        "ANSWER: --"
      ],
      "metadata": {
        "id": "J45qz317KOCM"
      }
    },
    {
      "cell_type": "code",
      "source": [
        "with open(\"source.txt\", \"r\") as src, open(\"destination.txt\", \"w\") as dest:\n",
        "    for line in src:\n",
        "        dest.write(line)\n"
      ],
      "metadata": {
        "id": "4YMm5nPFKN73"
      },
      "execution_count": null,
      "outputs": []
    },
    {
      "cell_type": "markdown",
      "source": [
        "5. How would you catch and handle division by zero error in Python?\n",
        "\n",
        "ANSWER: --"
      ],
      "metadata": {
        "id": "O87SgUdWKN1F"
      }
    },
    {
      "cell_type": "code",
      "source": [
        "try:\n",
        "    result = 10 / 0\n",
        "except ZeroDivisionError:\n",
        "    print(\"Cannot divide by zero.\")\n"
      ],
      "metadata": {
        "id": "c6ltPX22KNsL"
      },
      "execution_count": null,
      "outputs": []
    },
    {
      "cell_type": "markdown",
      "source": [
        "6. Write a Python program that logs an error message to a log file when a division by zero exception occurs.\n",
        "\n",
        "ANSWER: --"
      ],
      "metadata": {
        "id": "zVtWoY--KNls"
      }
    },
    {
      "cell_type": "code",
      "source": [
        "import logging\n",
        "\n",
        "logging.basicConfig(filename=\"error.log\", level=logging.ERROR)\n",
        "\n",
        "try:\n",
        "    result = 10 / 0\n",
        "except ZeroDivisionError as e:\n",
        "    logging.error(\"Division by zero error: %s\", e)\n"
      ],
      "metadata": {
        "id": "sP-NcTG6KNdJ"
      },
      "execution_count": null,
      "outputs": []
    },
    {
      "cell_type": "markdown",
      "source": [
        "7. How do you log information at different levels (INFO, ERROR, WARNING) in Python using the logging module?\n",
        "\n",
        "ANSWER: --"
      ],
      "metadata": {
        "id": "yeaatGlqKNYa"
      }
    },
    {
      "cell_type": "code",
      "source": [
        "import logging\n",
        "\n",
        "logging.basicConfig(level=logging.DEBUG)\n",
        "\n",
        "logging.info(\"This is an info message.\")\n",
        "logging.warning(\"This is a warning message.\")\n",
        "logging.error(\"This is an error message.\")\n"
      ],
      "metadata": {
        "id": "NNHm-TDTKNSu"
      },
      "execution_count": null,
      "outputs": []
    },
    {
      "cell_type": "markdown",
      "source": [
        "8. Write a program to handle a file opening error using exception handling.\n",
        "\n",
        "ANSWER: --"
      ],
      "metadata": {
        "id": "8Fs8aTBiKNNp"
      }
    },
    {
      "cell_type": "code",
      "source": [
        "try:\n",
        "    with open(\"missing.txt\", \"r\") as f:\n",
        "        print(f.read())\n",
        "except FileNotFoundError:\n",
        "    print(\"File not found.\")\n"
      ],
      "metadata": {
        "id": "8xZ0tLvnKNHN"
      },
      "execution_count": null,
      "outputs": []
    },
    {
      "cell_type": "markdown",
      "source": [
        "9. How can you read a file line by line and store its content in a list in Python?\n",
        "\n",
        "ANSWER: --"
      ],
      "metadata": {
        "id": "Nrv_XE5EKNBT"
      }
    },
    {
      "cell_type": "code",
      "source": [
        "with open(\"data.txt\", \"r\") as f:\n",
        "    lines = f.readlines()\n",
        "print(lines)\n"
      ],
      "metadata": {
        "id": "uGMTl6XxKM8H"
      },
      "execution_count": null,
      "outputs": []
    },
    {
      "cell_type": "markdown",
      "source": [
        "10. How can you append data to an existing file in Python?\n",
        "\n",
        "ANSWER: --"
      ],
      "metadata": {
        "id": "XajxPGO-KM23"
      }
    },
    {
      "cell_type": "code",
      "source": [
        "with open(\"append.txt\", \"a\") as f:\n",
        "    f.write(\"New line of text\\n\")\n"
      ],
      "metadata": {
        "id": "JjS3YJSQKMum"
      },
      "execution_count": null,
      "outputs": []
    },
    {
      "cell_type": "markdown",
      "source": [
        "11. Write a Python program that uses a try-except block to handle an error when attempting to access a dictionary key that doesn't exist.\n",
        "\n",
        "ANSWER: --"
      ],
      "metadata": {
        "id": "FLa_QzhuKMl_"
      }
    },
    {
      "cell_type": "code",
      "source": [
        "my_dict = {\"name\": \"Alice\"}\n",
        "\n",
        "try:\n",
        "    print(my_dict[\"age\"])\n",
        "except KeyError:\n",
        "    print(\"Key 'age' not found.\")\n"
      ],
      "metadata": {
        "id": "32_-lqzFKMeJ"
      },
      "execution_count": null,
      "outputs": []
    },
    {
      "cell_type": "markdown",
      "source": [
        "12. Write a program that demonstrates using multiple except blocks to handle different types of exceptions.\n",
        "\n",
        "ANSWER: --"
      ],
      "metadata": {
        "id": "vxTIIs6cKMW2"
      }
    },
    {
      "cell_type": "code",
      "source": [
        "try:\n",
        "    value = int(\"abc\")\n",
        "    result = 10 / 0\n",
        "except ValueError:\n",
        "    print(\"ValueError occurred.\")\n",
        "except ZeroDivisionError:\n",
        "    print(\"ZeroDivisionError occurred.\")\n"
      ],
      "metadata": {
        "id": "CSSnbd7eKMPP"
      },
      "execution_count": null,
      "outputs": []
    },
    {
      "cell_type": "markdown",
      "source": [
        "13. How would you check if a file exists before attempting to read it in Python?\n",
        "\n",
        "ANSWER: -"
      ],
      "metadata": {
        "id": "taWbgg40KMHp"
      }
    },
    {
      "cell_type": "code",
      "source": [
        "import os\n",
        "\n",
        "if os.path.exists(\"example.txt\"):\n",
        "    with open(\"example.txt\", \"r\") as f:\n",
        "        print(f.read())\n",
        "else:\n",
        "    print(\"File does not exist.\")\n"
      ],
      "metadata": {
        "id": "iyjRNooNKMAP"
      },
      "execution_count": null,
      "outputs": []
    },
    {
      "cell_type": "markdown",
      "source": [
        "14. Write a program that uses the logging module to log both informational and error messages.\n",
        "\n",
        "ANSWER: --"
      ],
      "metadata": {
        "id": "3LBudGndKL5y"
      }
    },
    {
      "cell_type": "code",
      "source": [
        "import logging\n",
        "\n",
        "logging.basicConfig(filename=\"app.log\", level=logging.INFO)\n",
        "\n",
        "logging.info(\"Program started.\")\n",
        "try:\n",
        "    result = 10 / 0\n",
        "except ZeroDivisionError:\n",
        "    logging.error(\"Attempted division by zero.\")\n"
      ],
      "metadata": {
        "id": "xKICCuRkKLys"
      },
      "execution_count": null,
      "outputs": []
    },
    {
      "cell_type": "markdown",
      "source": [
        "15. Write a Python program that prints the content of a file and handles the case when the file is empty.\n",
        "\n",
        "ANSWER: --"
      ],
      "metadata": {
        "id": "OnwzaRqpKLsM"
      }
    },
    {
      "cell_type": "code",
      "source": [
        "with open(\"empty.txt\", \"r\") as f:\n",
        "    content = f.read()\n",
        "    if not content:\n",
        "        print(\"File is empty.\")\n",
        "    else:\n",
        "        print(content)\n"
      ],
      "metadata": {
        "id": "tfs3a4ecKLkq"
      },
      "execution_count": null,
      "outputs": []
    },
    {
      "cell_type": "markdown",
      "source": [
        "16. Demonstrate how to use memory profiling to check the memory usage of a small program.\n",
        "\n",
        "ANSWER: --"
      ],
      "metadata": {
        "id": "XhtQO0YtKLeH"
      }
    },
    {
      "cell_type": "code",
      "source": [
        "# Save as test.py\n",
        "from memory_profiler import profile\n",
        "\n",
        "@profile\n",
        "def create_list():\n",
        "    return [i for i in range(10000)]\n",
        "\n",
        "create_list()\n"
      ],
      "metadata": {
        "id": "AM43JRu5KLW2"
      },
      "execution_count": null,
      "outputs": []
    },
    {
      "cell_type": "markdown",
      "source": [
        "Run using:\n",
        "\n"
      ],
      "metadata": {
        "id": "92rE3SL2KLP3"
      }
    },
    {
      "cell_type": "code",
      "source": [
        "mprof run test.py\n",
        "mprof plot\n"
      ],
      "metadata": {
        "id": "oBF8x1gKKLIi"
      },
      "execution_count": null,
      "outputs": []
    },
    {
      "cell_type": "markdown",
      "source": [
        "17. Write a Python program to create and write a list of numbers to a file, one number per line.\n",
        "\n",
        "ANSWER: --"
      ],
      "metadata": {
        "id": "1iY2qqd4KLBx"
      }
    },
    {
      "cell_type": "code",
      "source": [
        "numbers = [1, 2, 3, 4, 5]\n",
        "\n",
        "with open(\"numbers.txt\", \"w\") as f:\n",
        "    for number in numbers:\n",
        "        f.write(f\"{number}\\n\")\n"
      ],
      "metadata": {
        "id": "kR9L_jv2KK7A"
      },
      "execution_count": null,
      "outputs": []
    },
    {
      "cell_type": "markdown",
      "source": [
        "18. How would you implement a basic logging setup that logs to a file with rotation after 1MB?\n",
        "\n",
        "ANSWER: --"
      ],
      "metadata": {
        "id": "DB3hzUXjKK0R"
      }
    },
    {
      "cell_type": "code",
      "source": [
        "import logging\n",
        "from logging.handlers import RotatingFileHandler\n",
        "\n",
        "logger = logging.getLogger()\n",
        "logger.setLevel(logging.INFO)\n",
        "\n",
        "handler = RotatingFileHandler(\"app.log\", maxBytes=1*1024*1024, backupCount=3)\n",
        "logger.addHandler(handler)\n",
        "\n",
        "logger.info(\"This is a test log message.\")\n"
      ],
      "metadata": {
        "id": "JdJo3ZF7KKsu"
      },
      "execution_count": null,
      "outputs": []
    },
    {
      "cell_type": "markdown",
      "source": [
        "19. Write a program that handles both IndexError and KeyError using a try-except block.\n",
        "\n",
        "ANSWER: --"
      ],
      "metadata": {
        "id": "58c9fwfjKKmr"
      }
    },
    {
      "cell_type": "code",
      "source": [
        "my_list = [1, 2, 3]\n",
        "my_dict = {\"name\": \"Alice\"}\n",
        "\n",
        "try:\n",
        "    print(my_list[5])\n",
        "    print(my_dict[\"age\"])\n",
        "except IndexError:\n",
        "    print(\"IndexError occurred.\")\n",
        "except KeyError:\n",
        "    print(\"KeyError occurred.\")\n"
      ],
      "metadata": {
        "id": "dxE6ZdrUKKfs"
      },
      "execution_count": null,
      "outputs": []
    },
    {
      "cell_type": "markdown",
      "source": [
        "20. How would you open a file and read its contents using a context manager in Python?\n",
        "\n",
        "ANSWER: --"
      ],
      "metadata": {
        "id": "1w2-de1gKKYj"
      }
    },
    {
      "cell_type": "code",
      "source": [
        "with open(\"example.txt\", \"r\") as f:\n",
        "    data = f.read()\n",
        "    print(data)\n"
      ],
      "metadata": {
        "id": "Ssm6B9ISKKRp"
      },
      "execution_count": null,
      "outputs": []
    },
    {
      "cell_type": "markdown",
      "source": [
        "21. Write a Python program that reads a file and prints the number of occurrences of a specific word.\n",
        "\n",
        "ANSWER: --"
      ],
      "metadata": {
        "id": "zq_cfn2FKKLi"
      }
    },
    {
      "cell_type": "code",
      "source": [
        "word_to_count = \"Python\"\n",
        "count = 0\n",
        "\n",
        "with open(\"sample.txt\", \"r\") as f:\n",
        "    for line in f:\n",
        "        count += line.count(word_to_count)\n",
        "\n",
        "print(f\"'{word_to_count}' occurred {count} times.\")\n"
      ],
      "metadata": {
        "id": "6LiMfm6OKKD7"
      },
      "execution_count": null,
      "outputs": []
    },
    {
      "cell_type": "markdown",
      "source": [
        "22. How can you check if a file is empty before attempting to read its contents?\n",
        "\n",
        "ANSWER: --"
      ],
      "metadata": {
        "id": "wloeMwcRKJ8U"
      }
    },
    {
      "cell_type": "code",
      "source": [
        "import os\n",
        "\n",
        "if os.path.getsize(\"empty_check.txt\") == 0:\n",
        "    print(\"File is empty.\")\n",
        "else:\n",
        "    with open(\"empty_check.txt\", \"r\") as f:\n",
        "        print(f.read())\n"
      ],
      "metadata": {
        "id": "7LdhszBKKJz8"
      },
      "execution_count": null,
      "outputs": []
    },
    {
      "cell_type": "markdown",
      "source": [
        "23. Write a Python program that writes to a log file when an error occurs during file handling.\n",
        "\n",
        "ANSWER: --"
      ],
      "metadata": {
        "id": "d1iv4w2SKJs7"
      }
    },
    {
      "cell_type": "code",
      "source": [
        "import logging\n",
        "\n",
        "logging.basicConfig(filename=\"file_error.log\", level=logging.ERROR)\n",
        "\n",
        "try:\n",
        "    with open(\"unknown.txt\", \"r\") as f:\n",
        "        print(f.read())\n",
        "except Exception as e:\n",
        "    logging.error(\"Error reading file: %s\", e)\n"
      ],
      "metadata": {
        "id": "NSn95fwrKJk7"
      },
      "execution_count": null,
      "outputs": []
    }
  ]
}